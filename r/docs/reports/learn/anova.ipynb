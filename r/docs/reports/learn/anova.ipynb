{
 "cells": [
  {
   "cell_type": "markdown",
   "metadata": {},
   "source": [
    "<h1>Analysis of Variance</h1>\n",
    "Comparing means across samples based on variations from the mean.\n",
    "<br>\n",
    "<h2>Assumptions</h2>\n",
    "<ul>\n",
    "    <li>Data is normally distributed</li>\n",
    "    <li>Variance among the groups should be approximately equal</li>\n",
    "    <li>Observations are independent</li>\n",
    "</ul>"
   ]
  },
  {
   "cell_type": "code",
   "execution_count": 19,
   "metadata": {
    "vscode": {
     "languageId": "r"
    }
   },
   "outputs": [
    {
     "name": "stdout",
     "output_type": "stream",
     "text": [
      "[1] \"Reject null hypothesis\"\n"
     ]
    }
   ],
   "source": [
    "data <- data.frame(\n",
    "  group = rep(c(\"A\", \"B\", \"C\"), each = 50),\n",
    "  values = c(rnorm(50, mean = 0), rnorm(50, mean = 1), rnorm(50, mean = 2))\n",
    ")\n",
    "test <- oneway.test(values ~ group, data = data, var.equal = TRUE)\n",
    "sig <- 0.05\n",
    "if (test$p.value < sig) {\n",
    "  print(\"Reject null hypothesis\")\n",
    "} else {\n",
    "  print(\"Fail to reject null hypothesis\")\n",
    "}"
   ]
  },
  {
   "cell_type": "code",
   "execution_count": 20,
   "metadata": {
    "vscode": {
     "languageId": "r"
    }
   },
   "outputs": [
    {
     "data": {
      "text/plain": [
       "    group               values        \n",
       " Length:150         Min.   :-1.76334  \n",
       " Class :character   1st Qu.: 0.07982  \n",
       " Mode  :character   Median : 0.88327  \n",
       "                    Mean   : 0.97048  \n",
       "                    3rd Qu.: 1.86217  \n",
       "                    Max.   : 3.49820  "
      ]
     },
     "metadata": {},
     "output_type": "display_data"
    }
   ],
   "source": [
    "#statistics\n",
    "summary(data)"
   ]
  },
  {
   "cell_type": "markdown",
   "metadata": {},
   "source": [
    "<h3 style=\"text-transform:uppercase\">oneway.test</h3>\n",
    "Test whether samples from normal distributions have the same means.<br>\n",
    "<br><br>\n",
    "\n",
    "<table>\n",
    "<thead>\n",
    "<th>Arg</th>\n",
    "<th>Definition</th>\n",
    "</thead>\n",
    "<tbody>\n",
    "<tr>\n",
    "<td>formula</td>\n",
    "<td>Of the form sample~groups</td>\n",
    "</tr>\n",
    "<tr>\n",
    "<td>data</td>\n",
    "<td>Data frame where the variables will be found</td>\n",
    "</tr>\n",
    "<tr>\n",
    "<td>subset</td>\n",
    "<td>Optional observations to be used</td>\n",
    "</tr>\n",
    "<tr>\n",
    "<td>na.action</td>\n",
    "<td>How to handle NAs</td>\n",
    "</tr>\n",
    "<tr>\n",
    "<td>var.equal</td>\n",
    "<td>Logical variable to indicate equal variances</td>\n",
    "</tr>\n",
    "</tbody>\n",
    "</table>\n",
    "\n",
    "<br>\n",
    "<h4>Output</h4>\n",
    "<table>\n",
    "<thead>\n",
    "<th>Arg</th>\n",
    "<th>Definition</th>\n",
    "</thead>\n",
    "<tbody>\n",
    "<tr>\n",
    "<td>statistic</td>\n",
    "<td>Value of the test statistic</td>\n",
    "</tr>\n",
    "<tr>\n",
    "<td>parameter</td>\n",
    "<td>Degrees of freedom using F distribution</td>\n",
    "</tr>\n",
    "<tr>\n",
    "<td>p.value</td>\n",
    "<td>P-value of the test</td>\n",
    "</tr>\n",
    "<tr>\n",
    "<td>method</td>\n",
    "<td>indicates the test performed</td>\n",
    "</tr>\n",
    "<tr>\n",
    "<td>data.name</td>\n",
    "<td>Names of the data</td>\n",
    "</tr>\n",
    "</tbody>\n",
    "</table>"
   ]
  },
  {
   "cell_type": "code",
   "execution_count": 12,
   "metadata": {
    "vscode": {
     "languageId": "r"
    }
   },
   "outputs": [
    {
     "name": "stdout",
     "output_type": "stream",
     "text": [
      "[1] \"Fail to reject null hypothesis\"\n"
     ]
    }
   ],
   "source": [
    "test <- oneway.test(values ~ ind, data = data, var.equal = TRUE)\n",
    "sig <- 0.05\n",
    "if (test$p.value < sig) {\n",
    "  print(\"Reject null hypothesis\")\n",
    "} else {\n",
    "  print(\"Fail to reject null hypothesis\")\n",
    "}"
   ]
  },
  {
   "cell_type": "markdown",
   "metadata": {},
   "source": [
    "<h3>AOV</h3>\n",
    "Fit an analysis of variance model by a call to lm.<br>Acts as a wrapper for fitting linear models to balance or unbalanced experimental designs.\n",
    "\n",
    "<br>\n",
    "<h4>Input</h4>\n",
    "<table>\n",
    "<thead>\n",
    "<th>Arg</th>\n",
    "<th>Definition</th>\n",
    "</thead>\n",
    "<tbody>\n",
    "<tr>\n",
    "<td>formula</td>\n",
    "<td>Formula specifying the model</td>\n",
    "</tr>\n",
    "<tr>\n",
    "<td>data</td>\n",
    "<td>Data frame where the variables will be found</td>\n",
    "</tr>\n",
    "<tr>\n",
    "<td>projections</td>\n",
    "<td>Logical flag</td>\n",
    "</tr>\n",
    "<tr>\n",
    "<td>qr</td>\n",
    "<td>Logical flag</td>\n",
    "</tr>\n",
    "<tr>\n",
    "<td>contrasts</td>\n",
    "<td>List of contrasts for some of the factors</td>\n",
    "</tr>\n",
    "</tbody>\n",
    "</table>"
   ]
  },
  {
   "cell_type": "code",
   "execution_count": 14,
   "metadata": {
    "vscode": {
     "languageId": "r"
    }
   },
   "outputs": [
    {
     "data": {
      "text/plain": [
       "            Df Sum Sq Mean Sq F value Pr(>F)\n",
       "ind          2   2816  1407.9   1.861  0.175\n",
       "Residuals   27  20431   756.7               "
      ]
     },
     "metadata": {},
     "output_type": "display_data"
    }
   ],
   "source": [
    "test <- aov(values ~ ind, data = data)\n",
    "summary(test)"
   ]
  }
 ],
 "metadata": {
  "kernelspec": {
   "display_name": "R",
   "language": "R",
   "name": "ir"
  },
  "language_info": {
   "codemirror_mode": "r",
   "file_extension": ".r",
   "mimetype": "text/x-r-source",
   "name": "R",
   "pygments_lexer": "r",
   "version": "4.3.2"
  }
 },
 "nbformat": 4,
 "nbformat_minor": 2
}
