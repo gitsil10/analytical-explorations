{
 "cells": [
  {
   "cell_type": "markdown",
   "metadata": {},
   "source": [
    "<h1>Statistics</h1>\n",
    "Study of the collection, organization, analysis, interpretation,and presentation of data.\n",
    "<br>\n",
    "\n",
    "<h2>Descriptive</h2>\n",
    "<ul>\n",
    "<li>Summarizes data from a sample</li>\n",
    "<li>Analyzes central tendency and typical value</li>\n",
    "</ul><br>\n",
    "\n",
    "<h2>Inferential</h2>\n",
    "<ul>\n",
    "<li>Conclusions from data subjected to random variation</li>\n",
    "<li>collection of data to test relationships</li>\n",
    "</ul>"
   ]
  },
  {
   "cell_type": "code",
   "execution_count": 4,
   "metadata": {
    "vscode": {
     "languageId": "r"
    }
   },
   "outputs": [
    {
     "data": {
      "text/html": [
       "<table class=\"dataframe\">\n",
       "<caption>A data.frame: 6 × 7</caption>\n",
       "<thead>\n",
       "\t<tr><th></th><th scope=col>Date</th><th scope=col>Open</th><th scope=col>High</th><th scope=col>Low</th><th scope=col>Close</th><th scope=col>Adj.Close</th><th scope=col>Volume</th></tr>\n",
       "\t<tr><th></th><th scope=col>&lt;date&gt;</th><th scope=col>&lt;dbl&gt;</th><th scope=col>&lt;dbl&gt;</th><th scope=col>&lt;dbl&gt;</th><th scope=col>&lt;dbl&gt;</th><th scope=col>&lt;dbl&gt;</th><th scope=col>&lt;int&gt;</th></tr>\n",
       "</thead>\n",
       "<tbody>\n",
       "\t<tr><th scope=row>1</th><td>2023-03-22</td><td>104.27</td><td>106.59</td><td>103.33</td><td>103.37</td><td>103.37</td><td>43427400</td></tr>\n",
       "\t<tr><th scope=row>2</th><td>2023-03-23</td><td>105.06</td><td>106.30</td><td>104.46</td><td>105.60</td><td>105.60</td><td>40797800</td></tr>\n",
       "\t<tr><th scope=row>3</th><td>2023-03-24</td><td>104.99</td><td>105.49</td><td>103.84</td><td>105.44</td><td>105.44</td><td>30393300</td></tr>\n",
       "\t<tr><th scope=row>4</th><td>2023-03-27</td><td>104.62</td><td>104.76</td><td>101.93</td><td>102.46</td><td>102.46</td><td>31120900</td></tr>\n",
       "\t<tr><th scope=row>5</th><td>2023-03-28</td><td>102.44</td><td>102.45</td><td> 99.74</td><td>101.03</td><td>101.03</td><td>32057900</td></tr>\n",
       "\t<tr><th scope=row>6</th><td>2023-03-29</td><td>102.28</td><td>102.49</td><td>100.65</td><td>101.39</td><td>101.39</td><td>28779600</td></tr>\n",
       "</tbody>\n",
       "</table>\n"
      ],
      "text/latex": [
       "A data.frame: 6 × 7\n",
       "\\begin{tabular}{r|lllllll}\n",
       "  & Date & Open & High & Low & Close & Adj.Close & Volume\\\\\n",
       "  & <date> & <dbl> & <dbl> & <dbl> & <dbl> & <dbl> & <int>\\\\\n",
       "\\hline\n",
       "\t1 & 2023-03-22 & 104.27 & 106.59 & 103.33 & 103.37 & 103.37 & 43427400\\\\\n",
       "\t2 & 2023-03-23 & 105.06 & 106.30 & 104.46 & 105.60 & 105.60 & 40797800\\\\\n",
       "\t3 & 2023-03-24 & 104.99 & 105.49 & 103.84 & 105.44 & 105.44 & 30393300\\\\\n",
       "\t4 & 2023-03-27 & 104.62 & 104.76 & 101.93 & 102.46 & 102.46 & 31120900\\\\\n",
       "\t5 & 2023-03-28 & 102.44 & 102.45 &  99.74 & 101.03 & 101.03 & 32057900\\\\\n",
       "\t6 & 2023-03-29 & 102.28 & 102.49 & 100.65 & 101.39 & 101.39 & 28779600\\\\\n",
       "\\end{tabular}\n"
      ],
      "text/markdown": [
       "\n",
       "A data.frame: 6 × 7\n",
       "\n",
       "| <!--/--> | Date &lt;date&gt; | Open &lt;dbl&gt; | High &lt;dbl&gt; | Low &lt;dbl&gt; | Close &lt;dbl&gt; | Adj.Close &lt;dbl&gt; | Volume &lt;int&gt; |\n",
       "|---|---|---|---|---|---|---|---|\n",
       "| 1 | 2023-03-22 | 104.27 | 106.59 | 103.33 | 103.37 | 103.37 | 43427400 |\n",
       "| 2 | 2023-03-23 | 105.06 | 106.30 | 104.46 | 105.60 | 105.60 | 40797800 |\n",
       "| 3 | 2023-03-24 | 104.99 | 105.49 | 103.84 | 105.44 | 105.44 | 30393300 |\n",
       "| 4 | 2023-03-27 | 104.62 | 104.76 | 101.93 | 102.46 | 102.46 | 31120900 |\n",
       "| 5 | 2023-03-28 | 102.44 | 102.45 |  99.74 | 101.03 | 101.03 | 32057900 |\n",
       "| 6 | 2023-03-29 | 102.28 | 102.49 | 100.65 | 101.39 | 101.39 | 28779600 |\n",
       "\n"
      ],
      "text/plain": [
       "  Date       Open   High   Low    Close  Adj.Close Volume  \n",
       "1 2023-03-22 104.27 106.59 103.33 103.37 103.37    43427400\n",
       "2 2023-03-23 105.06 106.30 104.46 105.60 105.60    40797800\n",
       "3 2023-03-24 104.99 105.49 103.84 105.44 105.44    30393300\n",
       "4 2023-03-27 104.62 104.76 101.93 102.46 102.46    31120900\n",
       "5 2023-03-28 102.44 102.45  99.74 101.03 101.03    32057900\n",
       "6 2023-03-29 102.28 102.49 100.65 101.39 101.39    28779600"
      ]
     },
     "metadata": {},
     "output_type": "display_data"
    }
   ],
   "source": [
    "googl_url <- \"https://query1.finance.yahoo.com/v7/finance/download/GOOGL?period1=1679443200&period2=1711065600&interval=1d&events=history&includeAdjustedClose=true\"\n",
    "g_df <- read.csv(googl_url)\n",
    "g_df$Date <- as.Date(g_df$Date)\n",
    "head(g_df)"
   ]
  },
  {
   "cell_type": "code",
   "execution_count": 5,
   "metadata": {
    "vscode": {
     "languageId": "r"
    }
   },
   "outputs": [
    {
     "data": {
      "text/plain": [
       "      Date                 Open            High            Low        \n",
       " Min.   :2023-03-22   Min.   :100.9   Min.   :101.2   Min.   : 99.74  \n",
       " 1st Qu.:2023-06-21   1st Qu.:122.4   1st Qu.:124.0   1st Qu.:121.19  \n",
       " Median :2023-09-20   Median :131.4   Median :132.6   Median :129.98  \n",
       " Mean   :2023-09-20   Mean   :129.0   Mean   :130.4   Mean   :127.80  \n",
       " 3rd Qu.:2023-12-19   3rd Qu.:137.8   3rd Qu.:139.1   3rd Qu.:136.49  \n",
       " Max.   :2024-03-21   Max.   :152.8   Max.   :153.8   Max.   :151.43  \n",
       "     Close         Adj.Close         Volume        \n",
       " Min.   :100.9   Min.   :100.9   Min.   :12514300  \n",
       " 1st Qu.:122.3   1st Qu.:122.3   1st Qu.:23677450  \n",
       " Median :131.5   Median :131.5   Median :27436550  \n",
       " Mean   :129.2   Mean   :129.2   Mean   :30778473  \n",
       " 3rd Qu.:138.0   3rd Qu.:138.0   3rd Qu.:35237225  \n",
       " Max.   :153.5   Max.   :153.5   Max.   :84366200  "
      ]
     },
     "metadata": {},
     "output_type": "display_data"
    }
   ],
   "source": [
    "summary(g_df)"
   ]
  },
  {
   "cell_type": "code",
   "execution_count": 9,
   "metadata": {
    "vscode": {
     "languageId": "r"
    }
   },
   "outputs": [
    {
     "data": {
      "text/html": [
       "'The mean of the close price is 129.16'"
      ],
      "text/latex": [
       "'The mean of the close price is 129.16'"
      ],
      "text/markdown": [
       "'The mean of the close price is 129.16'"
      ],
      "text/plain": [
       "[1] \"The mean of the close price is 129.16\""
      ]
     },
     "metadata": {},
     "output_type": "display_data"
    },
    {
     "data": {
      "text/html": [
       "'The median of the close price is 131.46'"
      ],
      "text/latex": [
       "'The median of the close price is 131.46'"
      ],
      "text/markdown": [
       "'The median of the close price is 131.46'"
      ],
      "text/plain": [
       "[1] \"The median of the close price is 131.46\""
      ]
     },
     "metadata": {},
     "output_type": "display_data"
    },
    {
     "data": {
      "text/html": [
       "'The standard deviation of the close price is 12.36'"
      ],
      "text/latex": [
       "'The standard deviation of the close price is 12.36'"
      ],
      "text/markdown": [
       "'The standard deviation of the close price is 12.36'"
      ],
      "text/plain": [
       "[1] \"The standard deviation of the close price is 12.36\""
      ]
     },
     "metadata": {},
     "output_type": "display_data"
    },
    {
     "data": {
      "text/html": [
       "'The variance of the close price is 152.79'"
      ],
      "text/latex": [
       "'The variance of the close price is 152.79'"
      ],
      "text/markdown": [
       "'The variance of the close price is 152.79'"
      ],
      "text/plain": [
       "[1] \"The variance of the close price is 152.79\""
      ]
     },
     "metadata": {},
     "output_type": "display_data"
    },
    {
     "data": {
      "text/html": [
       "'The minimum of the close price is 100.89'"
      ],
      "text/latex": [
       "'The minimum of the close price is 100.89'"
      ],
      "text/markdown": [
       "'The minimum of the close price is 100.89'"
      ],
      "text/plain": [
       "[1] \"The minimum of the close price is 100.89\""
      ]
     },
     "metadata": {},
     "output_type": "display_data"
    },
    {
     "data": {
      "text/html": [
       "'The maximum of the close price is 153.51'"
      ],
      "text/latex": [
       "'The maximum of the close price is 153.51'"
      ],
      "text/markdown": [
       "'The maximum of the close price is 153.51'"
      ],
      "text/plain": [
       "[1] \"The maximum of the close price is 153.51\""
      ]
     },
     "metadata": {},
     "output_type": "display_data"
    },
    {
     "data": {
      "text/html": [
       "<style>\n",
       ".list-inline {list-style: none; margin:0; padding: 0}\n",
       ".list-inline>li {display: inline-block}\n",
       ".list-inline>li:not(:last-child)::after {content: \"\\00b7\"; padding: 0 .5ex}\n",
       "</style>\n",
       "<ol class=list-inline><li>'The range of the close price is 100.89'</li><li>'The range of the close price is 153.51'</li></ol>\n"
      ],
      "text/latex": [
       "\\begin{enumerate*}\n",
       "\\item 'The range of the close price is 100.89'\n",
       "\\item 'The range of the close price is 153.51'\n",
       "\\end{enumerate*}\n"
      ],
      "text/markdown": [
       "1. 'The range of the close price is 100.89'\n",
       "2. 'The range of the close price is 153.51'\n",
       "\n",
       "\n"
      ],
      "text/plain": [
       "[1] \"The range of the close price is 100.89\"\n",
       "[2] \"The range of the close price is 153.51\""
      ]
     },
     "metadata": {},
     "output_type": "display_data"
    },
    {
     "data": {
      "text/html": [
       "'The 1st quantile of the close price is 122.32'"
      ],
      "text/latex": [
       "'The 1st quantile of the close price is 122.32'"
      ],
      "text/markdown": [
       "'The 1st quantile of the close price is 122.32'"
      ],
      "text/plain": [
       "[1] \"The 1st quantile of the close price is 122.32\""
      ]
     },
     "metadata": {},
     "output_type": "display_data"
    },
    {
     "data": {
      "text/html": [
       "'The 3rd quantile of the close price is 137.98'"
      ],
      "text/latex": [
       "'The 3rd quantile of the close price is 137.98'"
      ],
      "text/markdown": [
       "'The 3rd quantile of the close price is 137.98'"
      ],
      "text/plain": [
       "[1] \"The 3rd quantile of the close price is 137.98\""
      ]
     },
     "metadata": {},
     "output_type": "display_data"
    },
    {
     "data": {
      "text/html": [
       "'The interquartile range of the close price is 15.66'"
      ],
      "text/latex": [
       "'The interquartile range of the close price is 15.66'"
      ],
      "text/markdown": [
       "'The interquartile range of the close price is 15.66'"
      ],
      "text/plain": [
       "[1] \"The interquartile range of the close price is 15.66\""
      ]
     },
     "metadata": {},
     "output_type": "display_data"
    },
    {
     "data": {
      "text/html": [
       "'The coefficient of variation of the close price is 0.10'"
      ],
      "text/latex": [
       "'The coefficient of variation of the close price is 0.10'"
      ],
      "text/markdown": [
       "'The coefficient of variation of the close price is 0.10'"
      ],
      "text/plain": [
       "[1] \"The coefficient of variation of the close price is 0.10\""
      ]
     },
     "metadata": {},
     "output_type": "display_data"
    },
    {
     "data": {
      "text/html": [
       "'The 5th percentile of the close price is 104.67'"
      ],
      "text/latex": [
       "'The 5th percentile of the close price is 104.67'"
      ],
      "text/markdown": [
       "'The 5th percentile of the close price is 104.67'"
      ],
      "text/plain": [
       "[1] \"The 5th percentile of the close price is 104.67\""
      ]
     },
     "metadata": {},
     "output_type": "display_data"
    },
    {
     "data": {
      "text/html": [
       "'The 95th percentile of the close price is 146.17'"
      ],
      "text/latex": [
       "'The 95th percentile of the close price is 146.17'"
      ],
      "text/markdown": [
       "'The 95th percentile of the close price is 146.17'"
      ],
      "text/plain": [
       "[1] \"The 95th percentile of the close price is 146.17\""
      ]
     },
     "metadata": {},
     "output_type": "display_data"
    },
    {
     "data": {
      "text/html": [
       "'The 99th percentile of the close price is 151.66'"
      ],
      "text/latex": [
       "'The 99th percentile of the close price is 151.66'"
      ],
      "text/markdown": [
       "'The 99th percentile of the close price is 151.66'"
      ],
      "text/plain": [
       "[1] \"The 99th percentile of the close price is 151.66\""
      ]
     },
     "metadata": {},
     "output_type": "display_data"
    },
    {
     "data": {
      "text/html": [
       "'The 99.9th percentile of the close price is 153.18'"
      ],
      "text/latex": [
       "'The 99.9th percentile of the close price is 153.18'"
      ],
      "text/markdown": [
       "'The 99.9th percentile of the close price is 153.18'"
      ],
      "text/plain": [
       "[1] \"The 99.9th percentile of the close price is 153.18\""
      ]
     },
     "metadata": {},
     "output_type": "display_data"
    },
    {
     "data": {
      "text/html": [
       "'The count of the close price is 252'"
      ],
      "text/latex": [
       "'The count of the close price is 252'"
      ],
      "text/markdown": [
       "'The count of the close price is 252'"
      ],
      "text/plain": [
       "[1] \"The count of the close price is 252\""
      ]
     },
     "metadata": {},
     "output_type": "display_data"
    }
   ],
   "source": [
    "#coefficient of variance\n",
    "cv <- function(x) {\n",
    "  sd(x) / mean(x)\n",
    "}\n",
    "sprintf(\n",
    "  \"The mean of the close price is %#.2f\", mean(g_df$Close)\n",
    ")\n",
    "sprintf(\n",
    "  \"The median of the close price is %#.2f\", median(g_df$Close)\n",
    ")\n",
    "sprintf(\n",
    "  \"The standard deviation of the close price is %#.2f\", sd(g_df$Close)\n",
    ")\n",
    "sprintf(\n",
    "  \"The variance of the close price is %#.2f\", var(g_df$Close)\n",
    ")\n",
    "sprintf(\n",
    "  \"The minimum of the close price is %#.2f\", min(g_df$Close)\n",
    ")\n",
    "sprintf(\n",
    "  \"The maximum of the close price is %#.2f\", max(g_df$Close)\n",
    ")\n",
    "sprintf(\n",
    "  \"The range of the close price is %#.2f\", range(g_df$Close)\n",
    ")\n",
    "sprintf(\n",
    "  \"The 1st quantile of the close price is %#.2f\", quantile(g_df$Close, 0.25)\n",
    ")\n",
    "sprintf(\n",
    "  \"The 3rd quantile of the close price is %#.2f\", quantile(g_df$Close, 0.75)\n",
    ")\n",
    "sprintf(\n",
    "  \"The interquartile range of the close price is %#.2f\", IQR(g_df$Close)\n",
    ")\n",
    "sprintf(\n",
    "  \"The coefficient of variation of the close price is %#.2f\", cv(g_df$Close)\n",
    ")\n",
    "sprintf(\n",
    "  \"The 5th percentile of the close price is %#.2f\", quantile(g_df$Close, 0.05)\n",
    ")\n",
    "sprintf(\n",
    "  \"The 95th percentile of the close price is %#.2f\", quantile(g_df$Close, 0.95)\n",
    ")\n",
    "sprintf(\n",
    "  \"The 99th percentile of the close price is %#.2f\", quantile(g_df$Close, 0.99)\n",
    ")\n",
    "sprintf(\n",
    "  \"The 99.9th percentile of the close price is %#.2f\", quantile(g_df$Close, 0.999)\n",
    ")\n",
    "sprintf(\n",
    "  \"The count of the close price is %d\", length(g_df$Close)\n",
    ")\n"
   ]
  }
 ],
 "metadata": {
  "kernelspec": {
   "display_name": "R",
   "language": "R",
   "name": "ir"
  },
  "language_info": {
   "codemirror_mode": "r",
   "file_extension": ".r",
   "mimetype": "text/x-r-source",
   "name": "R",
   "pygments_lexer": "r",
   "version": "4.3.2"
  }
 },
 "nbformat": 4,
 "nbformat_minor": 2
}
